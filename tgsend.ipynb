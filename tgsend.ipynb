{
  "nbformat": 4,
  "nbformat_minor": 0,
  "metadata": {
    "colab": {
      "provenance": [],
      "authorship_tag": "ABX9TyOeG4gRLUgvE/4qPTPjGmny",
      "include_colab_link": true
    },
    "kernelspec": {
      "name": "python3",
      "display_name": "Python 3"
    },
    "language_info": {
      "name": "python"
    }
  },
  "cells": [
    {
      "cell_type": "markdown",
      "metadata": {
        "id": "view-in-github",
        "colab_type": "text"
      },
      "source": [
        "<a href=\"https://colab.research.google.com/github/nalayakofficial/St-re-ss-co-lab/blob/main/tgsend.ipynb\" target=\"_parent\"><img src=\"https://colab.research.google.com/assets/colab-badge.svg\" alt=\"Open In Colab\"/></a>"
      ]
    },
    {
      "cell_type": "code",
      "execution_count": null,
      "metadata": {
        "cellView": "form",
        "id": "Emxvt49YK1nS"
      },
      "outputs": [],
      "source": [
        "#@title Setup\n",
        "import os\n",
        "os.system(\"pip install telethon\")\n",
        "os.system(\"pip install tqdm\")"
      ]
    },
    {
      "cell_type": "code",
      "source": [
        "\n",
        "\n",
        "\n",
        "from tqdm import tqdm\n",
        "import requests\n",
        "\n",
        "filename = \"sigma.apk\"  # @param {type: \"string\"}\n",
        "url = \"https://apkcombo.com/r2?u=https%3A%2F%2Fapks.55c8fc18511f43b4a8fa7b4011e06de5.r2.cloudflarestorage.com%2Fcom.studioarm.sigma%2F1.0.113%2F113.e8e0479cb7eec829551cdf282f7c900063a763a3.apk%3Fresponse-content-disposition%3Dattachment%253B%2520filename%253D%2522Sigma_1.0.113_apkcombo.com.apk%2522%26response-content-type%3Dapplication%252Fvnd.android.package-archive%26X-Amz-Algorithm%3DAWS4-HMAC-SHA256%26X-Amz-Date%3D20230506T053953Z%26X-Amz-SignedHeaders%3Dhost%26X-Amz-Expires%3D7200%26X-Amz-Credential%3D3cb727b4cd4780c410b780ac7caa4da3%252F20230506%252Fauto%252Fs3%252Faws4_request%26X-Amz-Signature%3D0fca89c0bdd76a001f97aa024f374675c3e4d6fb44ecaea600736cbc0e0ed573&fp=c95274a6e2a8bd1491d2b43ab74894be&ip=103.95.17.5\"  # @param {type: \"string\"}\n",
        "\n",
        "!wget -O $filename \"$url\""
      ],
      "metadata": {
        "cellView": "form",
        "id": "WGEY7FFmLhCP"
      },
      "execution_count": null,
      "outputs": []
    },
    {
      "cell_type": "code",
      "source": [
        " \n",
        "from telethon.sync import TelegramClient\n",
        "from telethon.sessions import StringSession\n",
        "import asyncio\n",
        "import time\n",
        "from IPython.display import clear_output\n",
        "\n",
        "\n",
        "api_id = \"25392405\" #@param {type: \"string\"}\n",
        "api_hash = \"fdf7a8249e0b242031168344ea0cb288\"#@param {type: \"string\"}\n",
        "string_session = \"1BVtsOIoBu1UE5JeBVXNKqE5qMbXGgxr_vG7pqB6V966aP7n70G7X2v06cUL7ihNRaQrRTnkmzwnDeau2rQ7nwVhQ8UTWJ3BL1vqt3ttRLKv7oaDiuaLEPcHYdN4IfGCuIXDg8uas7i0OBq96nMPlF7tn5yw9fbkllt9gH5qWNEgUy4FIoD2s4AIvY6pGGEbZ_3tYqXTOCXuz8XTGPmcbaHlkaBt7Uh0blfvQCJawqupcUzpZOvLEE6bKJamjfEgxtuelOTgFiHv2XRbfCzrO6_gpclfMsxCNEIoWkeLMBP0fU7MKhkh_lSRm7NNNm3gIRsKrPfkYl2vCMM5ErhhDXs3eihHisrA=\"#@param {type: \"string\"}\n",
        "file_name = \"ild.mkv\"#@param {type: \"string\"}\n",
        "client = TelegramClient(StringSession(string_session), api_id, api_hash)\n",
        "\n",
        "\n",
        "\n",
        "async def upload_file_to_telegram(file_path):\n",
        "    print(\"Uploading...\")\n",
        "    await client.start()\n",
        "\n",
        "    start_time = time.time()\n",
        "    kk = 0\n",
        "    def sg(i):\n",
        "       kk = i\n",
        "    def gg():\n",
        "       return kk\n",
        "\n",
        "    def progress_callback(current, total, start_time):\n",
        "        progress = (current / total) * 100\n",
        "        elapsed_time = time.time() - start_time\n",
        "        estimated_total_time = (elapsed_time / current) * total if current > 0 else 0\n",
        "        remaining_time = estimated_total_time - elapsed_time\n",
        "        print(\n",
        "            f\"Uploaded: {current/1048576} / {total/1048576} bytes ({progress:.2f}%) | \"\n",
        "            f\"Remaining: {remaining_time:.2f}s\",\n",
        "             \n",
        "        )\n",
        "        if gg() == 100:\n",
        "           sg(0)\n",
        "           clear_output()\n",
        "        sg(gg()+1)\n",
        "\n",
        "    await client.send_file(\n",
        "        \"me\",\n",
        "        file_path,\n",
        "        progress_callback=lambda x, y: progress_callback(x, y, start_time),\n",
        "        force_document=True,\n",
        "    )\n",
        "    print(\"\\nUpload completed.\")\n",
        "\n",
        "if __name__ == \"__main__\":\n",
        "    await upload_file_to_telegram(file_name)"
      ],
      "metadata": {
        "cellView": "form",
        "id": "lPkKscsXMN2J"
      },
      "execution_count": null,
      "outputs": []
    },
    {
      "cell_type": "code",
      "source": [
        "!ls"
      ],
      "metadata": {
        "id": "Vn03owUhUhVW"
      },
      "execution_count": null,
      "outputs": []
    },
    {
      "cell_type": "markdown",
      "source": [],
      "metadata": {
        "id": "iSCe5UwDUgN7"
      }
    }
  ]
}
